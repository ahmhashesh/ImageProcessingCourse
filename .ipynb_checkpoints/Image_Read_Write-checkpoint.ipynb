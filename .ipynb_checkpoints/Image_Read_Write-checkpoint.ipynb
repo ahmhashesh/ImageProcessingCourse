{
 "cells": [
  {
   "cell_type": "code",
   "execution_count": 10,
   "metadata": {},
   "outputs": [
    {
     "name": "stderr",
     "output_type": "stream",
     "text": [
      "[NbConvertApp] Converting notebook Image_Read_Write.ipynb to python\n",
      "[NbConvertApp] Writing 1148 bytes to Image_Read_Write.py\n"
     ]
    }
   ],
   "source": [
    "!jupyter nbconvert --to=python Image_Read_Write.ipynb"
   ]
  },
  {
   "cell_type": "code",
   "execution_count": 2,
   "metadata": {},
   "outputs": [],
   "source": [
    "import cv2"
   ]
  },
  {
   "cell_type": "code",
   "execution_count": 3,
   "metadata": {},
   "outputs": [],
   "source": [
    "img = cv2.imread(\"Lenna.png\",0)"
   ]
  },
  {
   "cell_type": "code",
   "execution_count": 4,
   "metadata": {},
   "outputs": [
    {
     "name": "stdout",
     "output_type": "stream",
     "text": [
      "[[168 168 167 ... 171 177 154]\n",
      " [168 167 167 ... 174 182 158]\n",
      " [169 166 167 ... 150 132  99]\n",
      " ...\n",
      " [ 59  61  64 ...  82  98 102]\n",
      " [ 56  61  61 ...  95 110 111]\n",
      " [ 53  61  59 ... 106 116 118]]\n"
     ]
    }
   ],
   "source": [
    "print (img)"
   ]
  },
  {
   "cell_type": "code",
   "execution_count": 5,
   "metadata": {},
   "outputs": [],
   "source": [
    "cv2.imshow('image',img)\n",
    "cv2.waitKey(0)\n",
    "cv2.destroyAllWindows()"
   ]
  },
  {
   "cell_type": "markdown",
   "metadata": {},
   "source": [
    "the imshow() display an image in a window. The window will be the same as the image size.\n",
    "the first argument is the image name to display and the second is the image variable.\n",
    "the Output will be like this:\n",
    "<img src=\" ImageProcessingCourse/Capture.PNG\">"
   ]
  },
  {
   "cell_type": "markdown",
   "metadata": {},
   "source": [
    "cv2.waitKey(): Its argument is the time in milliseconds. The function waits for specified milliseconds for any keyboard event.\n",
    "\n",
    "zero as argument means to wait indefinitely.\n",
    "\n",
    "cv2.destroyAllWindows() simply destroys all the windows we created. "
   ]
  },
  {
   "cell_type": "code",
   "execution_count": 6,
   "metadata": {},
   "outputs": [
    {
     "data": {
      "text/plain": [
       "True"
      ]
     },
     "execution_count": 6,
     "metadata": {},
     "output_type": "execute_result"
    }
   ],
   "source": [
    "cv2.imwrite('lenna_gray.png',img)"
   ]
  },
  {
   "cell_type": "code",
   "execution_count": 7,
   "metadata": {},
   "outputs": [
    {
     "data": {
      "text/plain": [
       "<Figure size 640x480 with 1 Axes>"
      ]
     },
     "metadata": {},
     "output_type": "display_data"
    }
   ],
   "source": [
    "import numpy as np\n",
    "import cv2\n",
    "from matplotlib import pyplot as plt\n",
    "\n",
    "img = cv2.imread('Lenna.png',0)\n",
    "plt.imshow(img, cmap = 'gray', interpolation = 'bicubic')\n",
    "plt.xticks([]), plt.yticks([])  # to hide tick values on X and Y axis\n",
    "plt.show()"
   ]
  },
  {
   "cell_type": "code",
   "execution_count": 8,
   "metadata": {},
   "outputs": [
    {
     "name": "stdout",
     "output_type": "stream",
     "text": [
      "(220, 220)\n"
     ]
    },
    {
     "data": {
      "text/plain": [
       "([array([23., 33., 23., 73., 25.,  5., 35.,  3.,  0.,  0.]),\n",
       "  array([21., 34., 25., 74., 24.,  5., 35.,  2.,  0.,  0.]),\n",
       "  array([17., 34., 27., 74., 26.,  7., 33.,  2.,  0.,  0.]),\n",
       "  array([ 8., 33., 35., 88., 15.,  7., 34.,  0.,  0.,  0.]),\n",
       "  array([ 0., 28., 37., 90., 19., 14., 32.,  0.,  0.,  0.]),\n",
       "  array([ 0., 21., 34., 95., 17., 13., 40.,  0.,  0.,  0.]),\n",
       "  array([ 3., 14., 34., 96.,  7., 15., 51.,  0.,  0.,  0.]),\n",
       "  array([ 0., 17., 34., 94.,  3.,  8., 60.,  4.,  0.,  0.]),\n",
       "  array([ 0.,  8., 43., 91.,  9.,  7., 49.,  9.,  4.,  0.]),\n",
       "  array([ 0., 12., 44., 82., 17., 18., 34.,  8.,  5.,  0.]),\n",
       "  array([ 0., 23., 32., 86., 33.,  6., 34.,  2.,  4.,  0.]),\n",
       "  array([ 6., 23., 22., 46., 77., 19., 22.,  4.,  1.,  0.]),\n",
       "  array([ 2., 22., 11., 22., 49., 88., 22.,  4.,  0.,  0.]),\n",
       "  array([  0.,   0.,  23.,  20.,   5., 145.,  27.,   0.,   0.,   0.]),\n",
       "  array([  0.,   0.,   0.,   2.,  28.,  50., 140.,   0.,   0.,   0.]),\n",
       "  array([  0.,   0.,   0.,   0.,   0.,  25., 195.,   0.,   0.,   0.]),\n",
       "  array([  0.,   0.,   0.,   0.,   0.,   0., 216.,   4.,   0.,   0.]),\n",
       "  array([  0.,   0.,   0.,   0.,   0.,   0., 147.,  73.,   0.,   0.]),\n",
       "  array([  0.,   0.,   0.,   0.,   0.,   0., 103., 117.,   0.,   0.]),\n",
       "  array([  0.,   0.,   0.,   0.,   0.,   0.,  93., 127.,   0.,   0.]),\n",
       "  array([  0.,   0.,   0.,   0.,   0.,   0.,  83., 137.,   0.,   0.]),\n",
       "  array([  0.,   0.,   0.,   0.,   0.,   0.,  78., 142.,   0.,   0.]),\n",
       "  array([  0.,   0.,   0.,   0.,   0.,   0.,  85., 135.,   0.,   0.]),\n",
       "  array([  0.,   0.,   0.,   0.,   0.,   0., 118., 102.,   0.,   0.]),\n",
       "  array([  0.,   0.,   0.,   0.,   0.,  50., 143.,  27.,   0.,   0.]),\n",
       "  array([  0.,   0.,   0.,   0.,   0., 103., 113.,   4.,   0.,   0.]),\n",
       "  array([  0.,   0.,   0.,   3.,  87., 113.,  16.,   1.,   0.,   0.]),\n",
       "  array([  0.,   2.,   2., 122.,  65.,  18.,   6.,   3.,   2.,   0.]),\n",
       "  array([ 0.,  6., 93., 86., 18., 12.,  2.,  2.,  1.,  0.]),\n",
       "  array([  0.,  16., 148.,  47.,   6.,   0.,   2.,   1.,   0.,   0.]),\n",
       "  array([  8.,  22., 102.,  79.,   3.,   4.,   1.,   1.,   0.,   0.]),\n",
       "  array([ 13.,  30.,  16., 146.,   9.,   4.,   2.,   0.,   0.,   0.]),\n",
       "  array([ 12.,  36.,   2., 151.,  12.,   6.,   1.,   0.,   0.,   0.]),\n",
       "  array([ 15.,  35.,   2., 141.,  21.,   6.,   0.,   0.,   0.,   0.]),\n",
       "  array([ 13.,  42.,   3., 108.,  47.,   7.,   0.,   0.,   0.,   0.]),\n",
       "  array([13., 45.,  4., 96., 56.,  5.,  1.,  0.,  0.,  0.]),\n",
       "  array([ 9., 49.,  6., 99., 48.,  9.,  0.,  0.,  0.,  0.]),\n",
       "  array([  4.,  45.,  21., 105.,  40.,   5.,   0.,   0.,   0.,   0.]),\n",
       "  array([  6.,  50.,  19., 108.,  31.,   6.,   0.,   0.,   0.,   0.]),\n",
       "  array([ 2., 59., 26., 95., 33.,  4.,  1.,  0.,  0.,  0.]),\n",
       "  array([  5.,  58.,  22., 107.,  25.,   0.,   3.,   0.,   0.,   0.]),\n",
       "  array([ 11.,  48.,  21., 112.,  21.,   5.,   2.,   0.,   0.,   0.]),\n",
       "  array([ 14.,  50.,  18., 114.,  18.,   4.,   2.,   0.,   0.,   0.]),\n",
       "  array([ 7., 54., 20., 98., 36.,  4.,  1.,  0.,  0.,  0.]),\n",
       "  array([ 3., 44., 33., 72., 62.,  6.,  0.,  0.,  0.,  0.]),\n",
       "  array([ 9., 44., 28., 49., 87.,  2.,  1.,  0.,  0.,  0.]),\n",
       "  array([ 1., 65., 22., 27., 98.,  1.,  5.,  0.,  1.,  0.]),\n",
       "  array([11., 52., 26., 26., 94.,  6.,  2.,  2.,  1.,  0.]),\n",
       "  array([  4.,  49.,  30.,  27., 100.,   3.,   4.,   2.,   1.,   0.]),\n",
       "  array([13., 43., 17., 33., 95., 11.,  4.,  3.,  1.,  0.]),\n",
       "  array([12., 46., 20., 36., 91., 10.,  2.,  1.,  0.,  2.]),\n",
       "  array([ 3., 42., 27., 30., 88.,  7., 12.,  2.,  8.,  1.]),\n",
       "  array([ 7., 36., 24., 32., 77., 11., 11.,  1., 14.,  7.]),\n",
       "  array([ 8., 31., 28., 29., 69., 17.,  6., 11., 17.,  4.]),\n",
       "  array([16., 22., 21., 23., 66., 27., 14., 12., 18.,  1.]),\n",
       "  array([12., 30., 19., 33., 45., 35., 21., 12., 12.,  1.]),\n",
       "  array([ 8., 39., 26., 21., 47., 43., 14.,  9., 11.,  2.]),\n",
       "  array([ 8., 42., 23., 21., 56., 39., 13.,  6.,  7.,  5.]),\n",
       "  array([12., 41., 23., 30., 42., 44., 14.,  5.,  5.,  4.]),\n",
       "  array([13., 31., 37., 28., 39., 51.,  9.,  5.,  7.,  0.]),\n",
       "  array([14., 37., 26., 31., 47., 51.,  5.,  5.,  4.,  0.]),\n",
       "  array([12., 41., 17., 29., 55., 53., 12.,  1.,  0.,  0.]),\n",
       "  array([12., 37., 18., 21., 65., 63.,  3.,  0.,  1.,  0.]),\n",
       "  array([ 9., 28., 28., 29., 67., 51.,  8.,  0.,  0.,  0.]),\n",
       "  array([ 6., 34., 19., 33., 69., 54.,  5.,  0.,  0.,  0.]),\n",
       "  array([ 4., 29., 31., 22., 79., 54.,  1.,  0.,  0.,  0.]),\n",
       "  array([ 9., 21., 23., 30., 80., 54.,  2.,  1.,  0.,  0.]),\n",
       "  array([ 4., 23., 22.,  7., 94., 52.,  8.,  5.,  4.,  1.]),\n",
       "  array([ 3., 17., 22., 33., 72., 60.,  5.,  2.,  5.,  1.]),\n",
       "  array([ 2., 23., 24., 32., 70., 59.,  3.,  4.,  3.,  0.]),\n",
       "  array([ 7., 30., 19., 29., 63., 60.,  8.,  2.,  2.,  0.]),\n",
       "  array([10., 30., 19., 25., 69., 59.,  6.,  1.,  1.,  0.]),\n",
       "  array([17., 38., 28., 17., 54., 58.,  6.,  1.,  1.,  0.]),\n",
       "  array([25., 40., 19., 14., 51., 62.,  5.,  4.,  0.,  0.]),\n",
       "  array([10., 55.,  9., 21., 57., 59.,  5.,  4.,  0.,  0.]),\n",
       "  array([15., 57., 16., 13., 49., 60.,  9.,  1.,  0.,  0.]),\n",
       "  array([20., 65., 14., 10., 41., 61.,  3.,  4.,  2.,  0.]),\n",
       "  array([25., 66., 16., 13., 33., 63.,  4.,  0.,  0.,  0.]),\n",
       "  array([26., 68., 18.,  6., 35., 64.,  3.,  0.,  0.,  0.]),\n",
       "  array([38., 58., 10., 12., 33., 62.,  5.,  1.,  1.,  0.]),\n",
       "  array([26., 74.,  9., 14., 21., 67.,  5.,  3.,  1.,  0.]),\n",
       "  array([13., 66., 32.,  7., 25., 67.,  7.,  2.,  1.,  0.]),\n",
       "  array([11., 83., 16.,  8., 27., 67.,  5.,  2.,  1.,  0.]),\n",
       "  array([ 7., 83., 18., 10., 24., 69.,  8.,  1.,  0.,  0.]),\n",
       "  array([11., 88., 10.,  8., 23., 71.,  6.,  3.,  0.,  0.]),\n",
       "  array([12., 83., 13.,  8., 16., 76.,  9.,  1.,  2.,  0.]),\n",
       "  array([13., 83., 12.,  4., 22., 71., 10.,  2.,  3.,  0.]),\n",
       "  array([13., 79., 14., 14., 16., 68., 10.,  4.,  2.,  0.]),\n",
       "  array([10., 71., 23.,  8., 17., 73., 11.,  5.,  2.,  0.]),\n",
       "  array([11., 69., 25.,  5., 23., 65., 14.,  7.,  1.,  0.]),\n",
       "  array([ 9., 70., 21.,  8., 24., 62., 17.,  7.,  2.,  0.]),\n",
       "  array([19., 65., 15.,  9., 25., 58., 20.,  8.,  1.,  0.]),\n",
       "  array([ 8., 68., 23.,  9., 21., 55., 26.,  7.,  3.,  0.]),\n",
       "  array([ 5., 48., 23., 24., 31., 47., 36.,  5.,  1.,  0.]),\n",
       "  array([ 6., 44., 30., 21., 27., 49., 28., 14.,  1.,  0.]),\n",
       "  array([ 4., 29., 31., 34., 22., 52., 34., 12.,  2.,  0.]),\n",
       "  array([ 9., 27., 24., 25., 28., 51., 36., 17.,  3.,  0.]),\n",
       "  array([ 7., 25., 19., 15., 45., 47., 38., 21.,  3.,  0.]),\n",
       "  array([ 7., 23., 15., 15., 49., 49., 39., 20.,  3.,  0.]),\n",
       "  array([ 3., 26., 16., 15., 30., 69., 34., 25.,  2.,  0.]),\n",
       "  array([ 4., 27., 21., 18., 19., 67., 29., 30.,  5.,  0.]),\n",
       "  array([ 5., 38., 15.,  6., 16., 78., 17., 38.,  7.,  0.]),\n",
       "  array([ 4., 23., 20., 13., 19., 79., 18., 38.,  6.,  0.]),\n",
       "  array([ 3., 11., 11., 26., 24., 79., 21., 43.,  2.,  0.]),\n",
       "  array([ 3., 10.,  5., 13., 34., 79., 34., 40.,  2.,  0.]),\n",
       "  array([ 1.,  9.,  8.,  6., 32., 88., 37., 36.,  3.,  0.]),\n",
       "  array([ 3.,  7.,  8.,  9., 27., 87., 35., 40.,  4.,  0.]),\n",
       "  array([ 1.,  9.,  9.,  7., 19., 96., 37., 38.,  4.,  0.]),\n",
       "  array([ 0.,  5.,  8., 13., 17., 94., 30., 46.,  7.,  0.]),\n",
       "  array([ 1.,  8.,  9., 10., 14., 94., 39., 37.,  8.,  0.]),\n",
       "  array([ 1.,  7.,  6., 10., 15., 94., 36., 41., 10.,  0.]),\n",
       "  array([  2.,   4.,   4.,  10.,  16., 101.,  35.,  39.,   9.,   0.]),\n",
       "  array([  0.,   6.,   7.,   9.,  15., 104.,  36.,  29.,  14.,   0.]),\n",
       "  array([  3.,   8.,   7.,   1.,  12., 101.,  40.,  36.,  12.,   0.]),\n",
       "  array([  3.,   9.,   5.,   5.,  10., 102.,  36.,  34.,  16.,   0.]),\n",
       "  array([ 0.,  5.,  8.,  6., 12., 97., 41., 34., 17.,  0.]),\n",
       "  array([ 0.,  3.,  9.,  4., 13., 97., 43., 32., 19.,  0.]),\n",
       "  array([  3.,   4.,   2.,   3.,   9., 100.,  41.,  36.,  22.,   0.]),\n",
       "  array([ 3.,  5.,  1.,  3., 11., 96., 47., 30., 24.,  0.]),\n",
       "  array([ 3.,  6.,  1.,  2.,  9., 92., 55., 27., 25.,  0.]),\n",
       "  array([ 4.,  4.,  3.,  1.,  9., 95., 59., 23., 22.,  0.]),\n",
       "  array([  1.,   6.,   2.,   5.,   8., 102.,  51.,  20.,  25.,   0.]),\n",
       "  array([ 1.,  4.,  1.,  5., 16., 97., 51., 17., 28.,  0.]),\n",
       "  array([  1.,   1.,   5.,   4.,  19., 102.,  44.,  16.,  28.,   0.]),\n",
       "  array([  1.,   2.,   1.,   3.,  18., 102.,  44.,  26.,  22.,   1.]),\n",
       "  array([ 0.,  0.,  0.,  4., 17., 94., 53., 28., 22.,  2.]),\n",
       "  array([ 0.,  0.,  0.,  5., 13., 92., 58., 27., 21.,  4.]),\n",
       "  array([ 0.,  0.,  2.,  2., 12., 80., 72., 31., 17.,  4.]),\n",
       "  array([ 0.,  0.,  0.,  5., 11., 81., 63., 40., 16.,  4.]),\n",
       "  array([ 0.,  0.,  1.,  4., 12., 74., 61., 43., 22.,  3.]),\n",
       "  array([ 0.,  0.,  2.,  3., 20., 63., 63., 46., 21.,  2.]),\n",
       "  array([ 0.,  0.,  1.,  3., 31., 48., 65., 51., 19.,  2.]),\n",
       "  array([ 0.,  0.,  1.,  6., 34., 34., 51., 71., 22.,  1.]),\n",
       "  array([ 0.,  0.,  3.,  8., 37., 28., 39., 56., 44.,  5.]),\n",
       "  array([ 0.,  5.,  3.,  8., 35., 18., 40., 52., 44., 15.]),\n",
       "  array([ 2.,  6.,  3.,  8., 35., 12., 38., 55., 51., 10.]),\n",
       "  array([ 0.,  8.,  6.,  9., 37.,  8., 48., 55., 41.,  8.]),\n",
       "  array([ 0.,  9.,  7., 16., 34., 10., 47., 62., 31.,  4.]),\n",
       "  array([ 2., 16.,  4., 12., 34., 18., 48., 53., 29.,  4.]),\n",
       "  array([ 2., 17.,  7., 18., 28., 21., 43., 50., 30.,  4.]),\n",
       "  array([ 3., 20.,  8., 24., 20., 22., 40., 49., 32.,  2.]),\n",
       "  array([ 0., 27.,  6., 14., 34., 27., 27., 45., 39.,  1.]),\n",
       "  array([ 1., 25.,  7., 10., 40., 32., 21., 46., 38.,  0.]),\n",
       "  array([ 1., 22.,  8., 10., 33., 40., 23., 40., 43.,  0.]),\n",
       "  array([ 0., 30.,  4.,  5.,  7., 69., 24., 40., 40.,  1.]),\n",
       "  array([ 3., 32.,  5.,  7.,  8., 60., 26., 36., 43.,  0.]),\n",
       "  array([ 3., 37.,  5., 13.,  9., 37., 44., 32., 40.,  0.]),\n",
       "  array([ 5., 41.,  7., 11., 15., 18., 56., 28., 39.,  0.]),\n",
       "  array([ 2., 49.,  8., 15., 13., 17., 54., 19., 42.,  1.]),\n",
       "  array([ 3., 48., 25., 14.,  4., 10., 53., 22., 40.,  1.]),\n",
       "  array([ 2., 44., 27., 20.,  2., 11., 51., 19., 39.,  5.]),\n",
       "  array([ 3., 45., 18., 28.,  2., 12., 52., 16., 39.,  5.]),\n",
       "  array([ 7., 40., 38.,  8.,  5., 14., 48., 14., 41.,  5.]),\n",
       "  array([ 7., 35., 35., 13.,  8., 18., 47., 12., 41.,  4.]),\n",
       "  array([ 8., 27., 53.,  3.,  8., 31., 34.,  9., 44.,  3.]),\n",
       "  array([ 1., 32., 55.,  3.,  6., 42., 29.,  8., 41.,  3.]),\n",
       "  array([17., 37., 28.,  9., 18., 20., 42.,  7., 40.,  2.]),\n",
       "  array([13., 26., 33., 26., 14., 13., 45., 11., 37.,  2.]),\n",
       "  array([13., 24., 47., 13., 12., 12., 47., 12., 37.,  3.]),\n",
       "  array([ 9., 50., 21., 11., 16., 22., 48.,  7., 33.,  3.]),\n",
       "  array([ 7., 51., 20., 15.,  9., 36., 44.,  5., 30.,  3.]),\n",
       "  array([ 7., 33., 19., 23., 13., 42., 47.,  6., 29.,  1.]),\n",
       "  array([ 3., 36., 25., 15.,  7., 50., 49.,  9., 25.,  1.]),\n",
       "  array([ 9., 43., 18., 24.,  9., 47., 44.,  5., 20.,  1.]),\n",
       "  array([ 9., 54., 13., 19., 10., 51., 42.,  4., 17.,  1.]),\n",
       "  array([ 9., 50., 15., 19., 11., 61., 33.,  4., 18.,  0.]),\n",
       "  array([ 4., 51., 11., 18., 14., 71., 31.,  3., 17.,  0.]),\n",
       "  array([ 1., 51.,  6., 25., 10., 68., 39.,  5., 14.,  1.]),\n",
       "  array([ 2., 46.,  5., 25., 10., 66., 47.,  3., 15.,  1.]),\n",
       "  array([ 2., 44.,  5., 21., 10., 66., 54.,  3., 13.,  2.]),\n",
       "  array([ 2., 41.,  5., 21.,  7., 75., 49.,  6., 13.,  1.]),\n",
       "  array([ 1., 39.,  7., 16., 13., 75., 46.,  7., 14.,  2.]),\n",
       "  array([ 1., 38.,  7., 12., 12., 89., 38.,  4., 17.,  2.]),\n",
       "  array([ 3., 36.,  6.,  8., 15., 84., 43.,  4., 18.,  3.]),\n",
       "  array([ 2., 35.,  9.,  5., 17., 96., 26.,  7., 20.,  3.]),\n",
       "  array([  4.,  34.,   6.,   6.,  15., 100.,  25.,   4.,  22.,   4.]),\n",
       "  array([  6.,  32.,   5.,   7.,  14., 105.,  23.,   2.,  16.,  10.]),\n",
       "  array([  8.,  31.,   3.,   7.,  15., 105.,  25.,   1.,   8.,  17.]),\n",
       "  array([ 6., 33.,  3.,  8., 27., 94., 25.,  3.,  8., 13.]),\n",
       "  array([ 7., 34.,  6.,  9., 28., 92., 28.,  4.,  8.,  4.]),\n",
       "  array([13., 33.,  2.,  6., 33., 86., 33.,  1.,  9.,  4.]),\n",
       "  array([ 7., 37.,  3.,  5., 31., 90., 27.,  6., 11.,  3.]),\n",
       "  array([ 0., 44.,  2.,  9., 29., 86., 27.,  4., 14.,  5.]),\n",
       "  array([ 1., 42.,  3., 13., 24., 85., 29.,  4., 15.,  4.]),\n",
       "  array([ 3., 40.,  1., 16., 22., 78., 37.,  7., 10.,  6.]),\n",
       "  array([ 6., 36.,  4., 10., 25., 80., 34.,  6., 12.,  7.]),\n",
       "  array([ 4., 38.,  3.,  9., 26., 79., 31.,  7., 15.,  8.]),\n",
       "  array([ 1., 39.,  6.,  6., 22., 82., 30.,  6., 19.,  9.]),\n",
       "  array([ 2., 38.,  4., 12., 21., 77., 28.,  8., 22.,  8.]),\n",
       "  array([ 2., 36.,  6., 14., 27., 62., 35.,  3., 25., 10.]),\n",
       "  array([ 2., 36.,  9., 17., 29., 58., 33.,  2., 20., 14.]),\n",
       "  array([ 2., 37., 13., 11., 31., 55., 37.,  5., 16., 13.]),\n",
       "  array([ 1., 40.,  9.,  8., 39., 52., 38.,  5., 21.,  7.]),\n",
       "  array([ 2., 38., 12.,  5., 43., 37., 45.,  7., 27.,  4.]),\n",
       "  array([ 1., 35., 14.,  7., 26., 48., 51.,  7., 31.,  0.]),\n",
       "  array([ 2., 33., 15.,  9., 32., 38., 49.,  7., 35.,  0.]),\n",
       "  array([ 6., 31., 14.,  9., 32., 35., 46., 10., 31.,  6.]),\n",
       "  array([ 5., 31., 15.,  9., 33., 32., 46.,  7., 36.,  6.]),\n",
       "  array([ 1., 34., 17.,  8., 34., 28., 49.,  5., 40.,  4.]),\n",
       "  array([ 1., 34., 15., 13., 32., 29., 47.,  4., 45.,  0.]),\n",
       "  array([ 3., 31., 11., 21., 26., 35., 44.,  6., 43.,  0.]),\n",
       "  array([ 2., 31., 11., 31., 18., 32., 47.,  6., 42.,  0.]),\n",
       "  array([ 0., 34., 12., 27., 16., 33., 51.,  7., 40.,  0.]),\n",
       "  array([ 1., 33., 13., 26., 21., 30., 49.,  7., 40.,  0.]),\n",
       "  array([ 0., 36., 13., 23., 19., 36., 46.,  9., 38.,  0.]),\n",
       "  array([ 2., 34., 12., 20., 23., 33., 48., 13., 35.,  0.]),\n",
       "  array([ 2., 31., 12., 23., 20., 34., 51., 13., 34.,  0.]),\n",
       "  array([ 1., 32., 10., 27., 19., 32., 52., 11., 36.,  0.]),\n",
       "  array([ 1., 32.,  9., 30., 18., 27., 56., 11., 36.,  0.]),\n",
       "  array([ 1., 30.,  9., 32., 17., 30., 54.,  9., 38.,  0.]),\n",
       "  array([ 0., 31., 11., 36., 14., 28., 54.,  7., 39.,  0.]),\n",
       "  array([ 1., 33., 11., 35., 12., 30., 52., 11., 35.,  0.]),\n",
       "  array([ 1., 34., 13., 34., 10., 28., 54., 10., 36.,  0.]),\n",
       "  array([ 3., 34., 11., 36., 10., 24., 56., 10., 36.,  0.]),\n",
       "  array([ 2., 41., 10., 30., 10., 25., 56., 10., 36.,  0.]),\n",
       "  array([ 4., 38., 13., 31.,  6., 23., 58., 11., 36.,  0.]),\n",
       "  array([ 4., 39., 15., 28.,  4., 25., 59.,  9., 37.,  0.]),\n",
       "  array([ 4., 38., 18., 26.,  4., 33., 51.,  9., 37.,  0.]),\n",
       "  array([ 4., 41., 15., 26.,  2., 36., 48., 11., 37.,  0.]),\n",
       "  array([ 4., 43., 12., 26.,  5., 38., 46.,  9., 37.,  0.])],\n",
       " array([ 34. ,  54.6,  75.2,  95.8, 116.4, 137. , 157.6, 178.2, 198.8,\n",
       "        219.4, 240. ]),\n",
       " <a list of 220 Lists of Patches objects>)"
      ]
     },
     "execution_count": 8,
     "metadata": {},
     "output_type": "execute_result"
    },
    {
     "data": {
      "image/png": "[encoded data removed]",
      "text/plain": [
       "<Figure size 432x288 with 1 Axes>"
      ]
     },
     "metadata": {
      "needs_background": "light"
     },
     "output_type": "display_data"
    }
   ],
   "source": [
    "print(img.shape)\n",
    "plt.hist(img)"
   ]
  },
  {
   "cell_type": "markdown",
   "metadata": {},
   "source": [
    "## trying a new comment"
   ]
  },
  {
   "cell_type": "code",
   "execution_count": null,
   "metadata": {},
   "outputs": [],
   "source": []
  }
 ],
 "metadata": {
  "kernelspec": {
   "display_name": "Python 3",
   "language": "python",
   "name": "python3"
  },
  "language_info": {
   "codemirror_mode": {
    "name": "ipython",
    "version": 3
   },
   "file_extension": ".py",
   "mimetype": "text/x-python",
   "name": "python",
   "nbconvert_exporter": "python",
   "pygments_lexer": "ipython3",
   "version": "3.6.3"
  },
  "varInspector": {
   "cols": {
    "lenName": 16,
    "lenType": 16,
    "lenVar": 40
   },
   "kernels_config": {
    "python": {
     "delete_cmd_postfix": "",
     "delete_cmd_prefix": "del ",
     "library": "var_list.py",
     "varRefreshCmd": "print(var_dic_list())"
    },
    "r": {
     "delete_cmd_postfix": ") ",
     "delete_cmd_prefix": "rm(",
     "library": "var_list.r",
     "varRefreshCmd": "cat(var_dic_list()) "
    }
   },
   "types_to_exclude": [
    "module",
    "function",
    "builtin_function_or_method",
    "instance",
    "_Feature"
   ],
   "window_display": false
  }
 },
 "nbformat": 4,
 "nbformat_minor": 2
}
